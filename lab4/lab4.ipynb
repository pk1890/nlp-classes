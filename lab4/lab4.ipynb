{
 "cells": [
  {
   "cell_type": "code",
   "execution_count": 1,
   "id": "f6edc7c8",
   "metadata": {},
   "outputs": [],
   "source": [
    "import collections\n",
    "import glob\n",
    "import re\n",
    "import tarfile\n",
    "import math\n",
    "from pprint import pprint\n",
    "import os\n",
    "import spacy\n",
    "import pandas as pd\n",
    "from collections import Counter\n"
   ]
  },
  {
   "cell_type": "code",
   "execution_count": 2,
   "id": "f30408b0",
   "metadata": {},
   "outputs": [],
   "source": [
    "def read_archive(path):\n",
    "    tar = tarfile.open(path, \"r:gz\")   \n",
    "    files = {}\n",
    "    for filename in tar.getnames():\n",
    "        f = tar.extractfile(filename)\n",
    "        files[filename] = f.read().decode(\"utf-8\").replace('\\n', ' ').replace('\\t', ' ').lower()\n",
    "    return files"
   ]
  },
  {
   "cell_type": "code",
   "execution_count": 3,
   "id": "b9faa1ca",
   "metadata": {},
   "outputs": [],
   "source": [
    "files = read_archive('./ustawy.tar.gz')"
   ]
  },
  {
   "cell_type": "markdown",
   "id": "08088d54",
   "metadata": {},
   "source": [
    "# 1. Use SpaCy tokenizer API to tokenize the text from the law corpus."
   ]
  },
  {
   "cell_type": "code",
   "execution_count": 4,
   "id": "c5044c5c",
   "metadata": {},
   "outputs": [],
   "source": [
    "nlp = spacy.load('pl_core_news_sm')\n",
    "docs = list(nlp.tokenizer.pipe(files.values()))"
   ]
  },
  {
   "cell_type": "code",
   "execution_count": 5,
   "id": "15b87d93",
   "metadata": {},
   "outputs": [
    {
     "data": {
      "text/plain": [
       "['dz.u', '.', 'z', '1993', 'r', '.', 'nr', '129', ',']"
      ]
     },
     "execution_count": 5,
     "metadata": {},
     "output_type": "execute_result"
    }
   ],
   "source": [
    "[tok.text for tok in docs[0][1:10]]"
   ]
  },
  {
   "cell_type": "markdown",
   "id": "6ce8d422",
   "metadata": {},
   "source": [
    "# 2 Compute bigram counts of downcased tokens. Given the sentence: \"The quick brown fox jumps over the lazy dog.\", the bigram counts are as follows: "
   ]
  },
  {
   "cell_type": "code",
   "execution_count": 6,
   "id": "3647e540",
   "metadata": {},
   "outputs": [],
   "source": [
    "def ngrams_text(tokens, n):\n",
    "    tokens = [tok.text for tok in tokens]\n",
    "    return zip(*[tokens[i:] for i in range(n)])\n",
    "    "
   ]
  },
  {
   "cell_type": "code",
   "execution_count": 7,
   "id": "aef21ce0",
   "metadata": {},
   "outputs": [
    {
     "name": "stdout",
     "output_type": "stream",
     "text": [
      "('art', '.'): 83778\n",
      "('ust', '.'): 53552\n",
      "('poz', '.'): 45198\n",
      "(',', 'poz'): 41517\n",
      "('.', '1'): 36586\n",
      "('-', '-'): 36542\n",
      "('r', '.'): 33010\n",
      "('w', 'art'): 30814\n",
      "(',', 'o'): 29189\n",
      "('mowa', 'w'): 27916\n",
      "('w', 'ust'): 22709\n",
      "(',', 'w'): 21795\n",
      "('2', '.'): 21274\n",
      "('1', '.'): 21111\n",
      "('.', '2'): 20978\n",
      "('.', 'nr'): 20786\n",
      "(',', '   '): 18994\n",
      "(',', 'z'): 18990\n",
      "('.', ' '): 17590\n",
      "('_', '_'): 16459\n"
     ]
    }
   ],
   "source": [
    "bigrams = [bigram for doc in docs for bigram in ngrams_text(doc, 2)]\n",
    "bigrams_counter = Counter(bigrams)\n",
    "\n",
    "top_bigram_counter = bigrams_counter.most_common(20)\n",
    "for text, count in top_bigram_counter:\n",
    "    print(f\"{text}: {count}\")"
   ]
  },
  {
   "cell_type": "markdown",
   "id": "f5da8434",
   "metadata": {},
   "source": [
    "# 3. Discard bigrams containing characters other than letters. Make sure that you discard the invalid entries after computing the bigram counts."
   ]
  },
  {
   "cell_type": "code",
   "execution_count": 8,
   "id": "9d8b1699",
   "metadata": {},
   "outputs": [],
   "source": [
    "filtered_bigrams = Counter([bigram for bigram in bigrams if all([x.isalpha() for x in bigram])])"
   ]
  },
  {
   "cell_type": "code",
   "execution_count": 9,
   "id": "59f9142d",
   "metadata": {},
   "outputs": [
    {
     "name": "stdout",
     "output_type": "stream",
     "text": [
      "('w', 'art'): 30814\n",
      "('mowa', 'w'): 27916\n",
      "('w', 'ust'): 22709\n",
      "('których', 'mowa'): 13178\n",
      "('o', 'których'): 12973\n",
      "('otrzymuje', 'brzmienie'): 9530\n",
      "('z', 'dnia'): 9224\n",
      "('którym', 'mowa'): 8832\n",
      "('o', 'którym'): 8753\n",
      "('do', 'spraw'): 8350\n",
      "('dodaje', 'się'): 8112\n",
      "('i', 'nr'): 8055\n",
      "('w', 'brzmieniu'): 6964\n",
      "('w', 'drodze'): 6701\n",
      "('stosuje', 'się'): 6307\n",
      "('na', 'podstawie'): 6119\n",
      "('w', 'przypadku'): 5687\n",
      "('której', 'mowa'): 5290\n",
      "('o', 'której'): 5249\n",
      "('od', 'dnia'): 5079\n"
     ]
    }
   ],
   "source": [
    "filtered_bigrams_counter = Counter(filtered_bigrams)\n",
    "\n",
    "top_filtered_bigram_counter = filtered_bigrams_counter.most_common(20)\n",
    "for text, count in top_filtered_bigram_counter:\n",
    "    print(f\"{text}: {count}\")"
   ]
  },
  {
   "cell_type": "markdown",
   "id": "3fde1198",
   "metadata": {},
   "source": [
    "# 4. Use pointwise mutual information to compute the measure for all pairs of words."
   ]
  },
  {
   "cell_type": "code",
   "execution_count": 10,
   "id": "915cf3f6",
   "metadata": {},
   "outputs": [],
   "source": [
    "unigrams = [token.text for doc in docs for token in doc if token.is_alpha]\n",
    "unigrams_count = len(unigrams)\n",
    "bigrams_count = len(filtered_bigrams)\n",
    "unigrams_counter = Counter(unigrams)"
   ]
  },
  {
   "cell_type": "code",
   "execution_count": 11,
   "id": "e34dba44",
   "metadata": {},
   "outputs": [],
   "source": [
    "def pmi(bigram):\n",
    "    P_x_y = filtered_bigrams_counter[bigram] / bigrams_count\n",
    "    P_x = unigrams_counter[bigram[0]] / unigrams_count\n",
    "    P_y = unigrams_counter[bigram[1]] / unigrams_count\n",
    "\n",
    "    return math.log2(P_x_y / (P_x * P_y))"
   ]
  },
  {
   "cell_type": "code",
   "execution_count": 12,
   "id": "e199daa4",
   "metadata": {},
   "outputs": [
    {
     "name": "stdout",
     "output_type": "stream",
     "text": [
      "('z', 'dnia'): 7.337431793999187\n",
      "('o', 'zmianie'): 8.38308839216137\n",
      "('zmianie', 'ustawy'): 10.101845850117986\n",
      "('ustawy', 'o'): 5.428385358916346\n",
      "('o', 'podatku'): 6.648937813602218\n",
      "('podatku', 'od'): 8.110998077856015\n",
      "('od', 'towarów'): 7.673592765548716\n",
      "('towarów', 'i'): 6.2561922531950405\n",
      "('i', 'usług'): 6.559781836961522\n",
      "('oraz', 'o'): 3.4509574703853705\n",
      "('podatku', 'akcyzowym'): 13.287188583358178\n",
      "('w', 'ustawie'): 6.888219704183044\n",
      "('ustawie', 'z'): 7.70697560954953\n",
      "('usług', 'oraz'): 5.81997231925886\n",
      "('i', 'nr'): 5.6914531682963965\n"
     ]
    }
   ],
   "source": [
    "pmi_dict = { bigram: pmi(bigram) for bigram in filtered_bigrams_counter.keys() }\n",
    "for bigram, pmi in list(pmi_dict.items())[:15]:\n",
    "    print(f\"{bigram}: {pmi}\")"
   ]
  },
  {
   "cell_type": "markdown",
   "id": "2db930e6",
   "metadata": {},
   "source": [
    "# 5. Sort the word pairs according to that measure in the descending order and determine top 10 entries."
   ]
  },
  {
   "cell_type": "code",
   "execution_count": 13,
   "id": "471b639a",
   "metadata": {},
   "outputs": [
    {
     "name": "stdout",
     "output_type": "stream",
     "text": [
      "('kołowe', 'jednoosiowe'): 24.629294560183173\n",
      "('zbrojeń', 'żelbeto'): 24.629294560183173\n",
      "('prefabrykatów', 'wnętrzowe'): 24.629294560183173\n",
      "('gołe', 'aluminiowe'): 24.629294560183173\n",
      "('polistyrenu', 'spienionego'): 24.629294560183173\n",
      "('objaśnieniem', 'figur'): 24.629294560183173\n",
      "('wkładzie', 'wnoszonym'): 24.629294560183173\n",
      "('doktorem', 'habilitowanym'): 24.629294560183173\n",
      "('losy', 'loteryjne'): 24.629294560183173\n",
      "('uw', 'zględnieniu'): 24.629294560183173\n"
     ]
    }
   ],
   "source": [
    "top_bigram_pmi = sorted(pmi_dict.items(), key=lambda x: x[1], reverse=True)\n",
    "for bigram, pmi in top_bigram_pmi[:10]:\n",
    "    print(f\"{bigram}: {pmi}\")"
   ]
  },
  {
   "cell_type": "markdown",
   "id": "2487a6b7",
   "metadata": {},
   "source": [
    "# 6. Filter bigrams with number of occurrences lower than 5. Determine top 10 entries for the remaining dataset (>=5 occurrences)."
   ]
  },
  {
   "cell_type": "code",
   "execution_count": 14,
   "id": "ba4e7bd9",
   "metadata": {},
   "outputs": [
    {
     "name": "stdout",
     "output_type": "stream",
     "text": [
      "('świeckie', 'przygotowujące'): 22.30736646529581\n",
      "('klęskami', 'żywiołowymi'): 22.30736646529581\n",
      "('ręcznego', 'miotacza'): 22.30736646529581\n",
      "('stajnią', 'wyścigową'): 22.30736646529581\n",
      "('otworami', 'wiertniczymi'): 22.30736646529581\n",
      "('obcowania', 'płciowego'): 22.30736646529581\n",
      "('nietykalność', 'cielesną'): 22.30736646529581\n",
      "('młyny', 'kulowe'): 22.30736646529581\n",
      "('młynki', 'młotkowe'): 22.30736646529581\n",
      "('obiegów', 'chłodzących'): 22.30736646529581\n"
     ]
    }
   ],
   "source": [
    "top_bigram_pmi_5 = [(k, v) for k, v in top_bigram_pmi if filtered_bigrams_counter[k] >=5]\n",
    "for bigram, pmi in top_bigram_pmi_5[:10]:\n",
    "    print(f\"{bigram}: {pmi}\")"
   ]
  },
  {
   "cell_type": "markdown",
   "id": "94fd4b4d",
   "metadata": {},
   "source": [
    "# 7. Use log likelihood ratio (LLR) to compute the measure for all pairs of words."
   ]
  },
  {
   "cell_type": "code",
   "execution_count": 15,
   "id": "224816f5",
   "metadata": {},
   "outputs": [],
   "source": [
    "# Source: https://github.com/tdunning/python-llr/blob/master/llr.py\n",
    "\n",
    "def llr_2x2(k11, k12, k21, k22):\n",
    "    '''Special case of llr with a 2x2 table'''\n",
    "    return 2 * (denormEntropy([k11+k12, k21+k22]) +\n",
    "                denormEntropy([k11+k21, k12+k22]) -\n",
    "                denormEntropy([k11, k12, k21, k22]))\n",
    "\n",
    "def denormEntropy(counts):\n",
    "    '''Computes the entropy of a list of counts scaled by the sum of the counts. If the inputs sum to one, this is just the normal definition of entropy'''\n",
    "    counts = list(counts)\n",
    "    total = float(sum(counts))\n",
    "    # Note tricky way to avoid 0*log(0)\n",
    "    return -sum([k * math.log(k/total + (k==0)) for k in counts])"
   ]
  },
  {
   "cell_type": "code",
   "execution_count": 16,
   "id": "5123b62c",
   "metadata": {},
   "outputs": [
    {
     "name": "stdout",
     "output_type": "stream",
     "text": [
      "('z', 'dnia'): 19264.269867235795\n",
      "('o', 'zmianie'): 4303.746595894569\n",
      "('zmianie', 'ustawy'): 4929.014017024805\n",
      "('ustawy', 'o'): 1417.7382283456973\n",
      "('o', 'podatku'): 322.3371999912779\n",
      "('podatku', 'od'): 907.0136351045512\n",
      "('od', 'towarów'): 424.11969888111344\n",
      "('towarów', 'i'): 510.7236186004011\n",
      "('i', 'usług'): 428.1526386947371\n",
      "('oraz', 'o'): 367.79739028483164\n",
      "('podatku', 'akcyzowym'): 734.8974293112842\n",
      "('w', 'ustawie'): 8151.568391272565\n",
      "('ustawie', 'z'): 12035.801441349555\n",
      "('usług', 'oraz'): 76.88171972209238\n",
      "('i', 'nr'): 25650.10952515644\n"
     ]
    }
   ],
   "source": [
    "bigram_first_token_counter = Counter()\n",
    "bigram_second_token_counter = Counter()\n",
    "\n",
    "for bigram, count in filtered_bigrams_counter.items():\n",
    "    bigram_first_token_counter.update({bigram[0]: count})\n",
    "    bigram_second_token_counter.update({bigram[1]: count})\n",
    "\n",
    "bigram_to_llr = {}\n",
    "for bigram, count in filtered_bigrams_counter.items():\n",
    "    k11 = count\n",
    "    k12 = bigram_second_token_counter[bigram[1]] - count\n",
    "    k21 = bigram_first_token_counter[bigram[0]] - count\n",
    "    k22 = bigrams_count - (k11 + k12 + k21)\n",
    "    bigram_to_llr[bigram] = llr_2x2(k11, k12, k21, k22)\n",
    "\n",
    "for bigram, llr in list(bigram_to_llr.items())[:15]:\n",
    "    print(f\"{bigram}: {llr}\")"
   ]
  },
  {
   "cell_type": "markdown",
   "id": "331172b3",
   "metadata": {},
   "source": [
    "# 8. Sort the word pairs according to that measure in the descending order and display top 10 entries."
   ]
  },
  {
   "cell_type": "code",
   "execution_count": 17,
   "id": "8aafe223",
   "metadata": {},
   "outputs": [
    {
     "name": "stdout",
     "output_type": "stream",
     "text": [
      "('w', 'w'): 142366.3467655643\n",
      "('otrzymuje', 'brzmienie'): 85041.21853705663\n",
      "('mowa', 'w'): 78603.32496332459\n",
      "('których', 'mowa'): 65832.89146895928\n",
      "('w', 'i'): 63911.785937641864\n",
      "('w', 'z'): 52608.36599351163\n",
      "('w', 'do'): 52109.980856643524\n",
      "('o', 'których'): 44526.3162236776\n",
      "('którym', 'mowa'): 42496.07052227837\n",
      "('w', 'na'): 41572.688310367754\n"
     ]
    }
   ],
   "source": [
    "top_bigram_llr = sorted(bigram_to_llr.items(), key=lambda x: x[1], reverse=True)\n",
    "for bigram, pmi in top_bigram_llr[:10]:\n",
    "    print(f\"{bigram}: {pmi}\")"
   ]
  },
  {
   "cell_type": "markdown",
   "id": "b0a30b8a",
   "metadata": {},
   "source": [
    "# 9. Compute trigram counts for the whole corpus and perform the same filtering."
   ]
  },
  {
   "cell_type": "code",
   "execution_count": 18,
   "id": "1c14e1bc",
   "metadata": {},
   "outputs": [],
   "source": [
    "trigrams = [trigram for doc in docs for trigram in ngrams_text(doc, 3) if all(map(lambda x: x.isalpha(), trigram))]"
   ]
  },
  {
   "cell_type": "code",
   "execution_count": 19,
   "id": "2b94e538",
   "metadata": {},
   "outputs": [
    {
     "data": {
      "text/plain": [
       "('o', 'zmianie', 'ustawy')"
      ]
     },
     "execution_count": 19,
     "metadata": {},
     "output_type": "execute_result"
    }
   ],
   "source": [
    "trigrams[0]"
   ]
  },
  {
   "cell_type": "code",
   "execution_count": 20,
   "id": "d346f7e0",
   "metadata": {},
   "outputs": [],
   "source": [
    "trigrams_counter = Counter(trigrams)\n",
    "trigrams_count = len(trigrams)"
   ]
  },
  {
   "cell_type": "code",
   "execution_count": 21,
   "id": "d3f98e49",
   "metadata": {},
   "outputs": [
    {
     "name": "stdout",
     "output_type": "stream",
     "text": [
      "('których', 'mowa', 'w'): 12832\n",
      "('mowa', 'w', 'ust'): 12620\n",
      "('o', 'których', 'mowa'): 12277\n",
      "('mowa', 'w', 'art'): 11338\n",
      "('którym', 'mowa', 'w'): 8663\n",
      "('o', 'którym', 'mowa'): 8402\n",
      "('której', 'mowa', 'w'): 5172\n",
      "('o', 'której', 'mowa'): 5012\n",
      "('właściwy', 'do', 'spraw'): 4482\n",
      "('minister', 'właściwy', 'do'): 4440\n",
      "('ustawie', 'z', 'dnia'): 3591\n",
      "('w', 'ustawie', 'z'): 3589\n",
      "('w', 'drodze', 'rozporządzenia'): 3466\n",
      "('ustawy', 'z', 'dnia'): 2819\n",
      "('dodaje', 'się', 'ust'): 2753\n",
      "('stosuje', 'się', 'odpowiednio'): 2672\n",
      "('zastępuje', 'się', 'wyrazami'): 2379\n",
      "('wejścia', 'w', 'życie'): 2204\n",
      "('dni', 'od', 'dnia'): 1936\n",
      "('wprowadza', 'się', 'następujące'): 1752\n"
     ]
    }
   ],
   "source": [
    "for text, count in trigrams_counter.most_common(20):\n",
    "    print(f\"{text}: {count}\")"
   ]
  },
  {
   "cell_type": "markdown",
   "id": "ae6d8c1e",
   "metadata": {},
   "source": [
    "# 10. Use PMI (with 5 occurrence threshold) and LLR to compute top 10 results for the trigrams. Devise a method for computing the values, based on the results for bigrams."
   ]
  },
  {
   "cell_type": "code",
   "execution_count": 22,
   "id": "fae46f94",
   "metadata": {},
   "outputs": [],
   "source": [
    "trigrams_count=len(trigrams)\n",
    "def pmi3(trigram):\n",
    "    P_x_y_z = trigrams_counter[trigram] / trigrams_count\n",
    "    P_x = unigrams_counter[trigram[0]] / unigrams_count\n",
    "    P_y = unigrams_counter[trigram[1]] / unigrams_count\n",
    "    P_z = unigrams_counter[trigram[2]] / unigrams_count\n",
    "\n",
    "    return math.log2(P_x_y_z / (P_x * P_y * P_z))"
   ]
  },
  {
   "cell_type": "code",
   "execution_count": 23,
   "id": "1f2c01fc",
   "metadata": {},
   "outputs": [
    {
     "name": "stdout",
     "output_type": "stream",
     "text": [
      "('o', 'zmianie', 'ustawy'): 13.916328572230125\n",
      "('zmianie', 'ustawy', 'o'): 13.506477519666616\n",
      "('ustawy', 'o', 'podatku'): 10.75939188577996\n",
      "('o', 'podatku', 'od'): 10.266079911635046\n",
      "('podatku', 'od', 'towarów'): 16.13152288350617\n",
      "('od', 'towarów', 'i'): 10.878285993885402\n",
      "('towarów', 'i', 'usług'): 15.044682361138472\n",
      "('oraz', 'o', 'podatku'): 8.097337246260917\n",
      "('o', 'podatku', 'akcyzowym'): 16.989795736694937\n",
      "('w', 'ustawie', 'z'): 9.883092775592244\n",
      "('ustawie', 'z', 'dnia'): 13.37014960530769\n",
      "('i', 'usług', 'oraz'): 8.819738031604635\n",
      "('usług', 'oraz', 'o'): 8.536500729288564\n",
      "('wprowadza', 'się', 'następujące'): 17.614125814370496\n",
      "('się', 'następujące', 'zmiany'): 16.60269580119262\n"
     ]
    }
   ],
   "source": [
    "pmi_dict_3 = { trigram: pmi3(trigram) for trigram in trigrams_counter.keys() }\n",
    "for trigram, pmi in list(pmi_dict_3.items())[:15]:\n",
    "    print(f\"{trigram}: {pmi}\")"
   ]
  },
  {
   "cell_type": "code",
   "execution_count": 24,
   "id": "9b336ef5",
   "metadata": {},
   "outputs": [
    {
     "name": "stdout",
     "output_type": "stream",
     "text": [
      "('english', 'language', 'college'): 44.44245278218417\n",
      "('wniebowzięcia', 'najświętszej', 'maryi'): 44.44245278218417\n",
      "('najświętszej', 'maryi', 'panny'): 44.44245278218417\n",
      "('porejestrowe', 'doświadczalnictwo', 'odmianowe'): 44.44245278218417\n",
      "('world', 'jewish', 'restitution'): 44.44245278218417\n",
      "('jewish', 'restitution', 'organisation'): 44.44245278218417\n",
      "('wszywanie', 'zamków', 'błyskawicznych'): 44.44245278218417\n",
      "('mit', 'beschrankter', 'haftung'): 44.44245278218417\n",
      "('prosimy', 'uważnie', 'przeczytać'): 44.44245278218417\n",
      "('aegroti', 'suprema', 'lex'): 44.44245278218417\n"
     ]
    }
   ],
   "source": [
    "top_trigram_pmi = sorted(pmi_dict_3.items(), key=lambda x: x[1], reverse=True)\n",
    "for trigram, pmi in top_trigram_pmi[:10]:\n",
    "    print(f\"{trigram}: {pmi}\")"
   ]
  },
  {
   "cell_type": "code",
   "execution_count": 25,
   "id": "392be78f",
   "metadata": {},
   "outputs": [
    {
     "name": "stdout",
     "output_type": "stream",
     "text": [
      "('finałowego', 'turnieju', 'mistrzostw'): 37.282581445405775\n",
      "('profilem', 'zaufanym', 'epuap'): 37.04157334590198\n",
      "('centralnemu', 'biuru', 'antykorupcyjnemu'): 36.590703740768106\n",
      "('turnieju', 'mistrzostw', 'europy'): 36.5170466990428\n",
      "('potwierdzonym', 'profilem', 'zaufanym'): 36.494085550599486\n",
      "('przedwczesnego', 'wyrębu', 'drzewostanu'): 36.37206345429277\n",
      "('piłce', 'nożnej', 'uefa'): 36.34652836218563\n",
      "('cienką', 'sierścią', 'zwierzęcą'): 35.84551763979693\n",
      "('szybkiemu', 'postępowi', 'technicznemu'): 35.780674684412176\n",
      "('wypalonym', 'paliwem', 'jądrowym'): 35.72820726451804\n"
     ]
    }
   ],
   "source": [
    "top_trigram_pmi_5 = [(k, v) for k, v in top_trigram_pmi if trigrams_counter[k] >=5]\n",
    "for trigram, pmi in top_trigram_pmi_5[:10]:\n",
    "    print(f\"{trigram}: {pmi}\")"
   ]
  },
  {
   "cell_type": "code",
   "execution_count": 26,
   "id": "dc3128f0",
   "metadata": {},
   "outputs": [
    {
     "name": "stdout",
     "output_type": "stream",
     "text": [
      "('o', 'zmianie', 'ustawy'): 12987.959317659846\n",
      "('zmianie', 'ustawy', 'o'): 9849.325623455821\n",
      "('ustawy', 'o', 'podatku'): 1506.0660337779118\n",
      "('o', 'podatku', 'od'): 1493.21630260675\n",
      "('podatku', 'od', 'towarów'): 3336.0298646069296\n",
      "('od', 'towarów', 'i'): 3854.644990233668\n",
      "('towarów', 'i', 'usług'): 6572.828875478961\n",
      "('oraz', 'o', 'podatku'): 542.4027405116612\n",
      "('o', 'podatku', 'akcyzowym'): 1060.793556188808\n",
      "('w', 'ustawie', 'z'): 47862.47038487035\n",
      "('ustawie', 'z', 'dnia'): 41486.129270834484\n",
      "('i', 'usług', 'oraz'): 1557.8588251239817\n",
      "('usług', 'oraz', 'o'): 712.3141234022551\n",
      "('wprowadza', 'się', 'następujące'): 27176.535077181317\n",
      "('się', 'następujące', 'zmiany'): 27488.976115050507\n"
     ]
    }
   ],
   "source": [
    "trigram_first_token_counter = Counter()\n",
    "trigram_second_token_counter = Counter()\n",
    "\n",
    "for trigram, count in trigrams_counter.items():\n",
    "    trigram_first_token_counter.update({trigram[0]+'/'+trigram[1]: count})\n",
    "    trigram_second_token_counter.update({trigram[1]+'/'+trigram[2]: count})\n",
    "\n",
    "trigram_to_llr = {}\n",
    "for trigram, count in trigrams_counter.items():\n",
    "    bigram = [trigram[0]+'/'+trigram[1], trigram[1]+'/'+trigram[2]]\n",
    "    k11 = count\n",
    "    k12 = trigram_second_token_counter[bigram[1]] - count\n",
    "    k21 = trigram_first_token_counter[bigram[0]] - count\n",
    "    k22 = trigrams_count - (k11 + k12 + k21)\n",
    "    trigram_to_llr[trigram] = llr_2x2(k11, k12, k21, k22)\n",
    "\n",
    "for trigram, llr in list(trigram_to_llr.items())[:15]:\n",
    "    print(f\"{trigram}: {llr}\")"
   ]
  },
  {
   "cell_type": "code",
   "execution_count": 27,
   "id": "b2768a0f",
   "metadata": {},
   "outputs": [
    {
     "name": "stdout",
     "output_type": "stream",
     "text": [
      "('o', 'których', 'mowa'): 147964.73903079642\n",
      "('których', 'mowa', 'w'): 116364.41917255323\n",
      "('o', 'którym', 'mowa'): 107692.39306950809\n",
      "('mowa', 'w', 'ust'): 103501.24431163131\n",
      "('mowa', 'w', 'art'): 82319.81622264214\n",
      "('którym', 'mowa', 'w'): 76811.98861773114\n",
      "('o', 'której', 'mowa'): 69316.76684738755\n",
      "('minister', 'właściwy', 'do'): 60975.49989174932\n",
      "('właściwy', 'do', 'spraw'): 50572.20357742673\n",
      "('w', 'ustawie', 'z'): 47862.47038487035\n"
     ]
    }
   ],
   "source": [
    "top_trigram_llr = sorted(trigram_to_llr.items(), key=lambda x: x[1], reverse=True)\n",
    "for trigram, pmi in top_trigram_llr[:10]:\n",
    "    print(f\"{trigram}: {pmi}\")"
   ]
  },
  {
   "cell_type": "markdown",
   "id": "73ddb745",
   "metadata": {},
   "source": [
    "# 11 Create a table comparing the methods (separate table for bigrams and trigrams)."
   ]
  },
  {
   "cell_type": "markdown",
   "id": "50b4558f",
   "metadata": {},
   "source": [
    "## Bigrams"
   ]
  },
  {
   "cell_type": "code",
   "execution_count": 28,
   "id": "07f13eb4",
   "metadata": {},
   "outputs": [],
   "source": [
    "columns = ['Top occurences', 'PMI', 'PMI >= 5', 'LLR']\n",
    "data=[]\n",
    "for i in range(10):\n",
    "    data.append((' '.join(top_filtered_bigram_counter[i][0]),\n",
    "                ' '.join(top_bigram_pmi[i][0]),\n",
    "                ' '.join(top_bigram_pmi_5[i][0]),\n",
    "                ' '.join(top_bigram_llr[i][0])))"
   ]
  },
  {
   "cell_type": "code",
   "execution_count": 29,
   "id": "e18a082d",
   "metadata": {},
   "outputs": [
    {
     "data": {
      "text/html": [
       "<div>\n",
       "<style scoped>\n",
       "    .dataframe tbody tr th:only-of-type {\n",
       "        vertical-align: middle;\n",
       "    }\n",
       "\n",
       "    .dataframe tbody tr th {\n",
       "        vertical-align: top;\n",
       "    }\n",
       "\n",
       "    .dataframe thead th {\n",
       "        text-align: right;\n",
       "    }\n",
       "</style>\n",
       "<table border=\"1\" class=\"dataframe\">\n",
       "  <thead>\n",
       "    <tr style=\"text-align: right;\">\n",
       "      <th></th>\n",
       "      <th>Top occurences</th>\n",
       "      <th>PMI</th>\n",
       "      <th>PMI &gt;= 5</th>\n",
       "      <th>LLR</th>\n",
       "    </tr>\n",
       "  </thead>\n",
       "  <tbody>\n",
       "    <tr>\n",
       "      <th>0</th>\n",
       "      <td>w art</td>\n",
       "      <td>kołowe jednoosiowe</td>\n",
       "      <td>świeckie przygotowujące</td>\n",
       "      <td>w w</td>\n",
       "    </tr>\n",
       "    <tr>\n",
       "      <th>1</th>\n",
       "      <td>mowa w</td>\n",
       "      <td>zbrojeń żelbeto</td>\n",
       "      <td>klęskami żywiołowymi</td>\n",
       "      <td>otrzymuje brzmienie</td>\n",
       "    </tr>\n",
       "    <tr>\n",
       "      <th>2</th>\n",
       "      <td>w ust</td>\n",
       "      <td>prefabrykatów wnętrzowe</td>\n",
       "      <td>ręcznego miotacza</td>\n",
       "      <td>mowa w</td>\n",
       "    </tr>\n",
       "    <tr>\n",
       "      <th>3</th>\n",
       "      <td>których mowa</td>\n",
       "      <td>gołe aluminiowe</td>\n",
       "      <td>stajnią wyścigową</td>\n",
       "      <td>których mowa</td>\n",
       "    </tr>\n",
       "    <tr>\n",
       "      <th>4</th>\n",
       "      <td>o których</td>\n",
       "      <td>polistyrenu spienionego</td>\n",
       "      <td>otworami wiertniczymi</td>\n",
       "      <td>w i</td>\n",
       "    </tr>\n",
       "    <tr>\n",
       "      <th>5</th>\n",
       "      <td>otrzymuje brzmienie</td>\n",
       "      <td>objaśnieniem figur</td>\n",
       "      <td>obcowania płciowego</td>\n",
       "      <td>w z</td>\n",
       "    </tr>\n",
       "    <tr>\n",
       "      <th>6</th>\n",
       "      <td>z dnia</td>\n",
       "      <td>wkładzie wnoszonym</td>\n",
       "      <td>nietykalność cielesną</td>\n",
       "      <td>w do</td>\n",
       "    </tr>\n",
       "    <tr>\n",
       "      <th>7</th>\n",
       "      <td>którym mowa</td>\n",
       "      <td>doktorem habilitowanym</td>\n",
       "      <td>młyny kulowe</td>\n",
       "      <td>o których</td>\n",
       "    </tr>\n",
       "    <tr>\n",
       "      <th>8</th>\n",
       "      <td>o którym</td>\n",
       "      <td>losy loteryjne</td>\n",
       "      <td>młynki młotkowe</td>\n",
       "      <td>którym mowa</td>\n",
       "    </tr>\n",
       "    <tr>\n",
       "      <th>9</th>\n",
       "      <td>do spraw</td>\n",
       "      <td>uw zględnieniu</td>\n",
       "      <td>obiegów chłodzących</td>\n",
       "      <td>w na</td>\n",
       "    </tr>\n",
       "  </tbody>\n",
       "</table>\n",
       "</div>"
      ],
      "text/plain": [
       "        Top occurences                      PMI                 PMI >= 5  \\\n",
       "0                w art       kołowe jednoosiowe  świeckie przygotowujące   \n",
       "1               mowa w          zbrojeń żelbeto     klęskami żywiołowymi   \n",
       "2                w ust  prefabrykatów wnętrzowe        ręcznego miotacza   \n",
       "3         których mowa          gołe aluminiowe        stajnią wyścigową   \n",
       "4            o których  polistyrenu spienionego    otworami wiertniczymi   \n",
       "5  otrzymuje brzmienie       objaśnieniem figur      obcowania płciowego   \n",
       "6               z dnia       wkładzie wnoszonym    nietykalność cielesną   \n",
       "7          którym mowa   doktorem habilitowanym             młyny kulowe   \n",
       "8             o którym           losy loteryjne          młynki młotkowe   \n",
       "9             do spraw           uw zględnieniu      obiegów chłodzących   \n",
       "\n",
       "                   LLR  \n",
       "0                  w w  \n",
       "1  otrzymuje brzmienie  \n",
       "2               mowa w  \n",
       "3         których mowa  \n",
       "4                  w i  \n",
       "5                  w z  \n",
       "6                 w do  \n",
       "7            o których  \n",
       "8          którym mowa  \n",
       "9                 w na  "
      ]
     },
     "execution_count": 29,
     "metadata": {},
     "output_type": "execute_result"
    }
   ],
   "source": [
    "pd.DataFrame(data, columns=columns)"
   ]
  },
  {
   "cell_type": "markdown",
   "id": "bce0999a",
   "metadata": {},
   "source": [
    "## Trigrams"
   ]
  },
  {
   "cell_type": "code",
   "execution_count": 30,
   "id": "e13bf97f",
   "metadata": {},
   "outputs": [],
   "source": [
    "columns = ['Top occurences', 'PMI', 'PMI >= 5', 'LLR']\n",
    "data=[]\n",
    "top_trigram_counter=trigrams_counter.most_common(20)\n",
    "for i in range(10):\n",
    "    data.append((' '.join(top_trigram_counter[i][0]),\n",
    "                ' '.join(top_trigram_pmi[i][0]),\n",
    "                ' '.join(top_trigram_pmi_5[i][0]),\n",
    "                ' '.join(top_trigram_llr[i][0])))"
   ]
  },
  {
   "cell_type": "code",
   "execution_count": 31,
   "id": "ae58a93c",
   "metadata": {},
   "outputs": [
    {
     "data": {
      "text/html": [
       "<div>\n",
       "<style scoped>\n",
       "    .dataframe tbody tr th:only-of-type {\n",
       "        vertical-align: middle;\n",
       "    }\n",
       "\n",
       "    .dataframe tbody tr th {\n",
       "        vertical-align: top;\n",
       "    }\n",
       "\n",
       "    .dataframe thead th {\n",
       "        text-align: right;\n",
       "    }\n",
       "</style>\n",
       "<table border=\"1\" class=\"dataframe\">\n",
       "  <thead>\n",
       "    <tr style=\"text-align: right;\">\n",
       "      <th></th>\n",
       "      <th>Top occurences</th>\n",
       "      <th>PMI</th>\n",
       "      <th>PMI &gt;= 5</th>\n",
       "      <th>LLR</th>\n",
       "    </tr>\n",
       "  </thead>\n",
       "  <tbody>\n",
       "    <tr>\n",
       "      <th>0</th>\n",
       "      <td>których mowa w</td>\n",
       "      <td>english language college</td>\n",
       "      <td>finałowego turnieju mistrzostw</td>\n",
       "      <td>o których mowa</td>\n",
       "    </tr>\n",
       "    <tr>\n",
       "      <th>1</th>\n",
       "      <td>mowa w ust</td>\n",
       "      <td>wniebowzięcia najświętszej maryi</td>\n",
       "      <td>profilem zaufanym epuap</td>\n",
       "      <td>których mowa w</td>\n",
       "    </tr>\n",
       "    <tr>\n",
       "      <th>2</th>\n",
       "      <td>o których mowa</td>\n",
       "      <td>najświętszej maryi panny</td>\n",
       "      <td>centralnemu biuru antykorupcyjnemu</td>\n",
       "      <td>o którym mowa</td>\n",
       "    </tr>\n",
       "    <tr>\n",
       "      <th>3</th>\n",
       "      <td>mowa w art</td>\n",
       "      <td>porejestrowe doświadczalnictwo odmianowe</td>\n",
       "      <td>turnieju mistrzostw europy</td>\n",
       "      <td>mowa w ust</td>\n",
       "    </tr>\n",
       "    <tr>\n",
       "      <th>4</th>\n",
       "      <td>którym mowa w</td>\n",
       "      <td>world jewish restitution</td>\n",
       "      <td>potwierdzonym profilem zaufanym</td>\n",
       "      <td>mowa w art</td>\n",
       "    </tr>\n",
       "    <tr>\n",
       "      <th>5</th>\n",
       "      <td>o którym mowa</td>\n",
       "      <td>jewish restitution organisation</td>\n",
       "      <td>przedwczesnego wyrębu drzewostanu</td>\n",
       "      <td>którym mowa w</td>\n",
       "    </tr>\n",
       "    <tr>\n",
       "      <th>6</th>\n",
       "      <td>której mowa w</td>\n",
       "      <td>wszywanie zamków błyskawicznych</td>\n",
       "      <td>piłce nożnej uefa</td>\n",
       "      <td>o której mowa</td>\n",
       "    </tr>\n",
       "    <tr>\n",
       "      <th>7</th>\n",
       "      <td>o której mowa</td>\n",
       "      <td>mit beschrankter haftung</td>\n",
       "      <td>cienką sierścią zwierzęcą</td>\n",
       "      <td>minister właściwy do</td>\n",
       "    </tr>\n",
       "    <tr>\n",
       "      <th>8</th>\n",
       "      <td>właściwy do spraw</td>\n",
       "      <td>prosimy uważnie przeczytać</td>\n",
       "      <td>szybkiemu postępowi technicznemu</td>\n",
       "      <td>właściwy do spraw</td>\n",
       "    </tr>\n",
       "    <tr>\n",
       "      <th>9</th>\n",
       "      <td>minister właściwy do</td>\n",
       "      <td>aegroti suprema lex</td>\n",
       "      <td>wypalonym paliwem jądrowym</td>\n",
       "      <td>w ustawie z</td>\n",
       "    </tr>\n",
       "  </tbody>\n",
       "</table>\n",
       "</div>"
      ],
      "text/plain": [
       "         Top occurences                                       PMI  \\\n",
       "0        których mowa w                  english language college   \n",
       "1            mowa w ust          wniebowzięcia najświętszej maryi   \n",
       "2        o których mowa                  najświętszej maryi panny   \n",
       "3            mowa w art  porejestrowe doświadczalnictwo odmianowe   \n",
       "4         którym mowa w                  world jewish restitution   \n",
       "5         o którym mowa           jewish restitution organisation   \n",
       "6         której mowa w           wszywanie zamków błyskawicznych   \n",
       "7         o której mowa                  mit beschrankter haftung   \n",
       "8     właściwy do spraw                prosimy uważnie przeczytać   \n",
       "9  minister właściwy do                       aegroti suprema lex   \n",
       "\n",
       "                             PMI >= 5                   LLR  \n",
       "0      finałowego turnieju mistrzostw        o których mowa  \n",
       "1             profilem zaufanym epuap        których mowa w  \n",
       "2  centralnemu biuru antykorupcyjnemu         o którym mowa  \n",
       "3          turnieju mistrzostw europy            mowa w ust  \n",
       "4     potwierdzonym profilem zaufanym            mowa w art  \n",
       "5   przedwczesnego wyrębu drzewostanu         którym mowa w  \n",
       "6                   piłce nożnej uefa         o której mowa  \n",
       "7           cienką sierścią zwierzęcą  minister właściwy do  \n",
       "8    szybkiemu postępowi technicznemu     właściwy do spraw  \n",
       "9          wypalonym paliwem jądrowym           w ustawie z  "
      ]
     },
     "execution_count": 31,
     "metadata": {},
     "output_type": "execute_result"
    }
   ],
   "source": [
    "pd.DataFrame(data, columns=columns)"
   ]
  },
  {
   "cell_type": "markdown",
   "id": "52039068",
   "metadata": {},
   "source": [
    "# 12. Answer the following questions:\n",
    "### Why do we have to filter the bigrams, rather than the token sequence?\n",
    "Example: `a b c d` - bigrams: `(a,b), (b,c), (c,d)`. If we now filter b in token sequence, we will get `(a,c), (c,d)` even if `a` was not neighbour of `c`. We modify context\n",
    "### Which measure (PMI, PMI with filtering, LLR) works better for the bigrams and which for the trigrams?\n",
    "It depends - PMI without filtering gives mostly proper names or some very specific collocations which gives no to very little info about structure of the analyzed text. The filtering causes it to return some concepts that are rare, but appear some times (eg. `wypalonym paliwem jądrowym `, `ręcznego miotacza`. It gives wide context about what we can expect from the dataset. \n",
    "The LLR method gives most information about structure of the text. we can see clearly from it that it is a law text.\n",
    "### What types of expressions are discovered by the methods.\n",
    "As said earlier, LLR is returning results more correlated to corpus. PMI returns very specific collocations and proper names giving no to very little info about corpus. \n",
    "### Can you devise a different type of filtering that would yield better results?\n",
    "We can try to lemmatize words before to minimize amount of very likely expressions. We can also think about filtering prepositions."
   ]
  },
  {
   "cell_type": "code",
   "execution_count": null,
   "id": "bfddeddf",
   "metadata": {},
   "outputs": [],
   "source": []
  }
 ],
 "metadata": {
  "kernelspec": {
   "display_name": "Python 3 (ipykernel)",
   "language": "python",
   "name": "python3"
  },
  "language_info": {
   "codemirror_mode": {
    "name": "ipython",
    "version": 3
   },
   "file_extension": ".py",
   "mimetype": "text/x-python",
   "name": "python",
   "nbconvert_exporter": "python",
   "pygments_lexer": "ipython3",
   "version": "3.8.6"
  }
 },
 "nbformat": 4,
 "nbformat_minor": 5
}
