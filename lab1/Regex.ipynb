{
 "cells": [
  {
   "cell_type": "code",
   "execution_count": 1,
   "id": "d87c5c7d",
   "metadata": {},
   "outputs": [],
   "source": [
    "import regex\n",
    "import tarfile\n",
    "from pprint import pprint\n",
    "import pandas as pd\n",
    "\n",
    "from matplotlib import pyplot as plt"
   ]
  },
  {
   "cell_type": "code",
   "execution_count": 2,
   "id": "5042b4b8",
   "metadata": {},
   "outputs": [],
   "source": [
    "def read_archive(path):\n",
    "    tar = tarfile.open(path, \"r:gz\")   \n",
    "    files = {}\n",
    "    for filename in tar.getnames():\n",
    "        f = tar.extractfile(filename)\n",
    "        files[filename] = f.read().decode(\"utf-8\").replace('\\n', ' ').replace('\\t', ' ')\n",
    "    return files"
   ]
  },
  {
   "cell_type": "code",
   "execution_count": 3,
   "id": "e033b358",
   "metadata": {},
   "outputs": [],
   "source": [
    "def find_matches(regexes, flections):\n",
    "    matches=[sum(\n",
    "            [len(\n",
    "                regex.findall(r, f, flags=regex.IGNORECASE))\n",
    "             for k,f in files.items()])\n",
    "        for r in regexes]\n",
    "    return dict(zip(flections,matches))"
   ]
  },
  {
   "cell_type": "markdown",
   "id": "603f7cce",
   "metadata": {},
   "source": [
    "# Zadanie 1"
   ]
  },
  {
   "cell_type": "code",
   "execution_count": 4,
   "id": "696f3f04",
   "metadata": {},
   "outputs": [
    {
     "name": "stdout",
     "output_type": "stream",
     "text": [
      "'Additions: 3480'\n",
      "'Deletions: 566'\n",
      "'Modified: 7766'\n"
     ]
    }
   ],
   "source": [
    "# source: \n",
    "# ROZPORZĄDZENIE\n",
    "# PREZESA RADY MINISTRÓW/\n",
    "# z dnia 20 czerwca 2002 r.\n",
    "# w sprawie \"Zasad techniki prawodawczej\" §85\n",
    "\n",
    "#https://sip.lex.pl/akty-prawne/dzu-dziennik-ustaw/zasady-techniki-prawodawczej-16968290\n",
    "\n",
    "item_types=r'(art\\.|ust\\.|pkt|lit\\.)'\n",
    "additions_r='('+item_types+r'\\s+\\d+\\s+dodaje\\s+się\\s+'+item_types+')'\n",
    "removals_r=r'uchyla\\s+się\\s+'+item_types\n",
    "removals2_r=r'skreśla\\s+się'+item_types\n",
    "mods_r=item_types+'\\s+\\d+\\s+otrzymuje\\s+brzmienie'\n",
    "files = read_archive('ustawy.tar.gz')\n",
    "# print(additions)\n",
    "\n",
    "additions={k:[a[0] for a in regex.findall(additions_r, f, flags=regex.IGNORECASE)] for k,f in files.items()}\n",
    "removals={k:[a[0] for a in regex.findall(\"|\".join([removals_r, removals2_r]), f, flags=regex.IGNORECASE)] for k,f in files.items()}\n",
    "mods={k:[a[0] for a in regex.findall(mods_r, f, flags=regex.IGNORECASE)] for k,f in files.items()}\n",
    "\n",
    "pprint(f'Additions: {sum([len(add) for _, add in additions.items()])}')\n",
    "pprint(f'Deletions: {sum([len(rem) for _, rem in removals.items()])}')\n",
    "pprint(f'Modified: {sum([len(mod) for _, mod in mods.items()])}')\n",
    "\n",
    "# pprint(additions)"
   ]
  },
  {
   "cell_type": "markdown",
   "id": "cb334c86",
   "metadata": {},
   "source": [
    "# Zadanie 3"
   ]
  },
  {
   "cell_type": "code",
   "execution_count": 5,
   "id": "d55767c4",
   "metadata": {},
   "outputs": [],
   "source": [
    "dates = {k:regex.findall(\"((Ustawa|U S T A W A).*?\\s+z\\s+dnia\\s+(.*?)(\\d\\d\\d\\d)\\s*r\\.)\", f, flags=regex.IGNORECASE)[:1] for k, f in files.items()}\n",
    "\n",
    "dates={filename:data[0][3] for (filename, data) in dates.items() if len(data)>0}"
   ]
  },
  {
   "cell_type": "code",
   "execution_count": 6,
   "id": "ca5ef5a0",
   "metadata": {},
   "outputs": [],
   "source": [
    "def aggregate_years(data, dates, label):\n",
    "    res={}\n",
    "    for filename, val in data.items():\n",
    "        if filename in dates:\n",
    "            year=dates[filename]\n",
    "            if year in res:\n",
    "                res[year] += len(val)\n",
    "            else:\n",
    "                res[year] = len(val)\n",
    "                \n",
    "    res = pd.DataFrame(res, index=[0]).transpose()\n",
    "    res.rename(columns={0: label}, inplace=True)\n",
    "    return res"
   ]
  },
  {
   "cell_type": "code",
   "execution_count": 7,
   "id": "7ab86cac",
   "metadata": {},
   "outputs": [
    {
     "data": {
      "text/html": [
       "<div>\n",
       "<style scoped>\n",
       "    .dataframe tbody tr th:only-of-type {\n",
       "        vertical-align: middle;\n",
       "    }\n",
       "\n",
       "    .dataframe tbody tr th {\n",
       "        vertical-align: top;\n",
       "    }\n",
       "\n",
       "    .dataframe thead th {\n",
       "        text-align: right;\n",
       "    }\n",
       "</style>\n",
       "<table border=\"1\" class=\"dataframe\">\n",
       "  <thead>\n",
       "    <tr style=\"text-align: right;\">\n",
       "      <th></th>\n",
       "      <th>added</th>\n",
       "      <th>removed</th>\n",
       "      <th>modified</th>\n",
       "      <th>sum</th>\n",
       "      <th>padd</th>\n",
       "      <th>prem</th>\n",
       "      <th>pmod</th>\n",
       "    </tr>\n",
       "  </thead>\n",
       "  <tbody>\n",
       "    <tr>\n",
       "      <th>1993</th>\n",
       "      <td>13</td>\n",
       "      <td>0</td>\n",
       "      <td>56</td>\n",
       "      <td>69</td>\n",
       "      <td>0.188406</td>\n",
       "      <td>0.000000</td>\n",
       "      <td>0.811594</td>\n",
       "    </tr>\n",
       "    <tr>\n",
       "      <th>1994</th>\n",
       "      <td>52</td>\n",
       "      <td>0</td>\n",
       "      <td>72</td>\n",
       "      <td>124</td>\n",
       "      <td>0.419355</td>\n",
       "      <td>0.000000</td>\n",
       "      <td>0.580645</td>\n",
       "    </tr>\n",
       "    <tr>\n",
       "      <th>1995</th>\n",
       "      <td>184</td>\n",
       "      <td>0</td>\n",
       "      <td>321</td>\n",
       "      <td>505</td>\n",
       "      <td>0.364356</td>\n",
       "      <td>0.000000</td>\n",
       "      <td>0.635644</td>\n",
       "    </tr>\n",
       "    <tr>\n",
       "      <th>1996</th>\n",
       "      <td>166</td>\n",
       "      <td>0</td>\n",
       "      <td>398</td>\n",
       "      <td>564</td>\n",
       "      <td>0.294326</td>\n",
       "      <td>0.000000</td>\n",
       "      <td>0.705674</td>\n",
       "    </tr>\n",
       "    <tr>\n",
       "      <th>1997</th>\n",
       "      <td>305</td>\n",
       "      <td>0</td>\n",
       "      <td>620</td>\n",
       "      <td>925</td>\n",
       "      <td>0.329730</td>\n",
       "      <td>0.000000</td>\n",
       "      <td>0.670270</td>\n",
       "    </tr>\n",
       "    <tr>\n",
       "      <th>1998</th>\n",
       "      <td>268</td>\n",
       "      <td>1</td>\n",
       "      <td>765</td>\n",
       "      <td>1034</td>\n",
       "      <td>0.259188</td>\n",
       "      <td>0.000967</td>\n",
       "      <td>0.739845</td>\n",
       "    </tr>\n",
       "    <tr>\n",
       "      <th>1999</th>\n",
       "      <td>111</td>\n",
       "      <td>4</td>\n",
       "      <td>185</td>\n",
       "      <td>300</td>\n",
       "      <td>0.370000</td>\n",
       "      <td>0.013333</td>\n",
       "      <td>0.616667</td>\n",
       "    </tr>\n",
       "    <tr>\n",
       "      <th>2000</th>\n",
       "      <td>494</td>\n",
       "      <td>0</td>\n",
       "      <td>1262</td>\n",
       "      <td>1756</td>\n",
       "      <td>0.281321</td>\n",
       "      <td>0.000000</td>\n",
       "      <td>0.718679</td>\n",
       "    </tr>\n",
       "    <tr>\n",
       "      <th>2001</th>\n",
       "      <td>619</td>\n",
       "      <td>0</td>\n",
       "      <td>1267</td>\n",
       "      <td>1886</td>\n",
       "      <td>0.328208</td>\n",
       "      <td>0.000000</td>\n",
       "      <td>0.671792</td>\n",
       "    </tr>\n",
       "    <tr>\n",
       "      <th>2002</th>\n",
       "      <td>11</td>\n",
       "      <td>0</td>\n",
       "      <td>28</td>\n",
       "      <td>39</td>\n",
       "      <td>0.282051</td>\n",
       "      <td>0.000000</td>\n",
       "      <td>0.717949</td>\n",
       "    </tr>\n",
       "    <tr>\n",
       "      <th>2003</th>\n",
       "      <td>177</td>\n",
       "      <td>93</td>\n",
       "      <td>473</td>\n",
       "      <td>743</td>\n",
       "      <td>0.238223</td>\n",
       "      <td>0.125168</td>\n",
       "      <td>0.636608</td>\n",
       "    </tr>\n",
       "    <tr>\n",
       "      <th>2004</th>\n",
       "      <td>166</td>\n",
       "      <td>52</td>\n",
       "      <td>359</td>\n",
       "      <td>577</td>\n",
       "      <td>0.287695</td>\n",
       "      <td>0.090121</td>\n",
       "      <td>0.622184</td>\n",
       "    </tr>\n",
       "    <tr>\n",
       "      <th>2006</th>\n",
       "      <td>34</td>\n",
       "      <td>27</td>\n",
       "      <td>106</td>\n",
       "      <td>167</td>\n",
       "      <td>0.203593</td>\n",
       "      <td>0.161677</td>\n",
       "      <td>0.634731</td>\n",
       "    </tr>\n",
       "    <tr>\n",
       "      <th>2007</th>\n",
       "      <td>217</td>\n",
       "      <td>75</td>\n",
       "      <td>441</td>\n",
       "      <td>733</td>\n",
       "      <td>0.296044</td>\n",
       "      <td>0.102319</td>\n",
       "      <td>0.601637</td>\n",
       "    </tr>\n",
       "    <tr>\n",
       "      <th>2008</th>\n",
       "      <td>27</td>\n",
       "      <td>20</td>\n",
       "      <td>70</td>\n",
       "      <td>117</td>\n",
       "      <td>0.230769</td>\n",
       "      <td>0.170940</td>\n",
       "      <td>0.598291</td>\n",
       "    </tr>\n",
       "    <tr>\n",
       "      <th>2009</th>\n",
       "      <td>63</td>\n",
       "      <td>31</td>\n",
       "      <td>153</td>\n",
       "      <td>247</td>\n",
       "      <td>0.255061</td>\n",
       "      <td>0.125506</td>\n",
       "      <td>0.619433</td>\n",
       "    </tr>\n",
       "    <tr>\n",
       "      <th>2010</th>\n",
       "      <td>33</td>\n",
       "      <td>24</td>\n",
       "      <td>109</td>\n",
       "      <td>166</td>\n",
       "      <td>0.198795</td>\n",
       "      <td>0.144578</td>\n",
       "      <td>0.656627</td>\n",
       "    </tr>\n",
       "    <tr>\n",
       "      <th>2011</th>\n",
       "      <td>30</td>\n",
       "      <td>18</td>\n",
       "      <td>65</td>\n",
       "      <td>113</td>\n",
       "      <td>0.265487</td>\n",
       "      <td>0.159292</td>\n",
       "      <td>0.575221</td>\n",
       "    </tr>\n",
       "    <tr>\n",
       "      <th>2012</th>\n",
       "      <td>20</td>\n",
       "      <td>16</td>\n",
       "      <td>32</td>\n",
       "      <td>68</td>\n",
       "      <td>0.294118</td>\n",
       "      <td>0.235294</td>\n",
       "      <td>0.470588</td>\n",
       "    </tr>\n",
       "    <tr>\n",
       "      <th>2013</th>\n",
       "      <td>89</td>\n",
       "      <td>18</td>\n",
       "      <td>148</td>\n",
       "      <td>255</td>\n",
       "      <td>0.349020</td>\n",
       "      <td>0.070588</td>\n",
       "      <td>0.580392</td>\n",
       "    </tr>\n",
       "    <tr>\n",
       "      <th>2014</th>\n",
       "      <td>78</td>\n",
       "      <td>31</td>\n",
       "      <td>158</td>\n",
       "      <td>267</td>\n",
       "      <td>0.292135</td>\n",
       "      <td>0.116105</td>\n",
       "      <td>0.591760</td>\n",
       "    </tr>\n",
       "    <tr>\n",
       "      <th>2015</th>\n",
       "      <td>74</td>\n",
       "      <td>31</td>\n",
       "      <td>145</td>\n",
       "      <td>250</td>\n",
       "      <td>0.296000</td>\n",
       "      <td>0.124000</td>\n",
       "      <td>0.580000</td>\n",
       "    </tr>\n",
       "    <tr>\n",
       "      <th>2016</th>\n",
       "      <td>30</td>\n",
       "      <td>16</td>\n",
       "      <td>58</td>\n",
       "      <td>104</td>\n",
       "      <td>0.288462</td>\n",
       "      <td>0.153846</td>\n",
       "      <td>0.557692</td>\n",
       "    </tr>\n",
       "    <tr>\n",
       "      <th>2017</th>\n",
       "      <td>120</td>\n",
       "      <td>73</td>\n",
       "      <td>284</td>\n",
       "      <td>477</td>\n",
       "      <td>0.251572</td>\n",
       "      <td>0.153040</td>\n",
       "      <td>0.595388</td>\n",
       "    </tr>\n",
       "    <tr>\n",
       "      <th>2018</th>\n",
       "      <td>99</td>\n",
       "      <td>36</td>\n",
       "      <td>191</td>\n",
       "      <td>326</td>\n",
       "      <td>0.303681</td>\n",
       "      <td>0.110429</td>\n",
       "      <td>0.585890</td>\n",
       "    </tr>\n",
       "  </tbody>\n",
       "</table>\n",
       "</div>"
      ],
      "text/plain": [
       "      added  removed  modified   sum      padd      prem      pmod\n",
       "1993     13        0        56    69  0.188406  0.000000  0.811594\n",
       "1994     52        0        72   124  0.419355  0.000000  0.580645\n",
       "1995    184        0       321   505  0.364356  0.000000  0.635644\n",
       "1996    166        0       398   564  0.294326  0.000000  0.705674\n",
       "1997    305        0       620   925  0.329730  0.000000  0.670270\n",
       "1998    268        1       765  1034  0.259188  0.000967  0.739845\n",
       "1999    111        4       185   300  0.370000  0.013333  0.616667\n",
       "2000    494        0      1262  1756  0.281321  0.000000  0.718679\n",
       "2001    619        0      1267  1886  0.328208  0.000000  0.671792\n",
       "2002     11        0        28    39  0.282051  0.000000  0.717949\n",
       "2003    177       93       473   743  0.238223  0.125168  0.636608\n",
       "2004    166       52       359   577  0.287695  0.090121  0.622184\n",
       "2006     34       27       106   167  0.203593  0.161677  0.634731\n",
       "2007    217       75       441   733  0.296044  0.102319  0.601637\n",
       "2008     27       20        70   117  0.230769  0.170940  0.598291\n",
       "2009     63       31       153   247  0.255061  0.125506  0.619433\n",
       "2010     33       24       109   166  0.198795  0.144578  0.656627\n",
       "2011     30       18        65   113  0.265487  0.159292  0.575221\n",
       "2012     20       16        32    68  0.294118  0.235294  0.470588\n",
       "2013     89       18       148   255  0.349020  0.070588  0.580392\n",
       "2014     78       31       158   267  0.292135  0.116105  0.591760\n",
       "2015     74       31       145   250  0.296000  0.124000  0.580000\n",
       "2016     30       16        58   104  0.288462  0.153846  0.557692\n",
       "2017    120       73       284   477  0.251572  0.153040  0.595388\n",
       "2018     99       36       191   326  0.303681  0.110429  0.585890"
      ]
     },
     "execution_count": 7,
     "metadata": {},
     "output_type": "execute_result"
    },
    {
     "data": {
      "image/png": "[encoded data removed]",
      "text/plain": [
       "<Figure size 432x288 with 1 Axes>"
      ]
     },
     "metadata": {
      "needs_background": "light"
     },
     "output_type": "display_data"
    }
   ],
   "source": [
    "addition_years=aggregate_years(additions, dates, 'added')\n",
    "removal_years=aggregate_years(removals, dates, 'removed')\n",
    "mods_years=aggregate_years(mods, dates, 'modified')\n",
    "\n",
    "data=addition_years.join(removal_years).join(mods_years)\n",
    "\n",
    "data['sum']=data['added']+data['removed']+data['modified']\n",
    "data['padd']=data['added']/data['sum']\n",
    "data['prem']=data['removed']/data['sum']\n",
    "data['pmod']=data['modified']/data['sum']\n",
    "\n",
    "\n",
    "data=data.sort_index()\n",
    "data.plot(y=['padd', 'prem', 'pmod'], style='o--')\n",
    "data"
   ]
  },
  {
   "cell_type": "markdown",
   "id": "106e06bc",
   "metadata": {},
   "source": [
    "# Zadanie 4"
   ]
  },
  {
   "cell_type": "code",
   "execution_count": 8,
   "id": "d5f71469",
   "metadata": {},
   "outputs": [],
   "source": [
    "#got from https://sjp.pl/ustawa\n",
    "flections=['ustawa', 'ustawą', 'ustawę', 'ustawie', 'ustawo', 'ustawy', 'ustawach', 'ustawami', 'ustawom', 'ustaw']"
   ]
  },
  {
   "cell_type": "code",
   "execution_count": 9,
   "id": "7b6c4d67",
   "metadata": {},
   "outputs": [],
   "source": [
    "r = r'\\b('+r'|'.join(flections)+ r')\\b'\n",
    "regexes=[r'\\b'+f +r'\\b' for f in flections]"
   ]
  },
  {
   "cell_type": "code",
   "execution_count": 10,
   "id": "f6e2e761",
   "metadata": {},
   "outputs": [
    {
     "data": {
      "text/plain": [
       "['\\\\bustawa\\\\b',\n",
       " '\\\\bustawą\\\\b',\n",
       " '\\\\bustawę\\\\b',\n",
       " '\\\\bustawie\\\\b',\n",
       " '\\\\bustawo\\\\b',\n",
       " '\\\\bustawy\\\\b',\n",
       " '\\\\bustawach\\\\b',\n",
       " '\\\\bustawami\\\\b',\n",
       " '\\\\bustawom\\\\b',\n",
       " '\\\\bustaw\\\\b']"
      ]
     },
     "execution_count": 10,
     "metadata": {},
     "output_type": "execute_result"
    }
   ],
   "source": [
    "regexes"
   ]
  },
  {
   "cell_type": "code",
   "execution_count": 11,
   "id": "b1531f39",
   "metadata": {},
   "outputs": [],
   "source": [
    "files = read_archive('ustawy.tar.gz')\n",
    "matches4=find_matches(regexes, flections)"
   ]
  },
  {
   "cell_type": "code",
   "execution_count": 12,
   "id": "bc74de0f",
   "metadata": {},
   "outputs": [
    {
     "data": {
      "text/plain": [
       "{'ustawa': 3235,\n",
       " 'ustawą': 1118,\n",
       " 'ustawę': 829,\n",
       " 'ustawie': 5478,\n",
       " 'ustawo': 0,\n",
       " 'ustawy': 13099,\n",
       " 'ustawach': 178,\n",
       " 'ustawami': 76,\n",
       " 'ustawom': 12,\n",
       " 'ustaw': 909}"
      ]
     },
     "execution_count": 12,
     "metadata": {},
     "output_type": "execute_result"
    }
   ],
   "source": [
    "matches4"
   ]
  },
  {
   "cell_type": "markdown",
   "id": "bcb7c154",
   "metadata": {},
   "source": [
    "## Edge case: ustaw as verb"
   ]
  },
  {
   "cell_type": "code",
   "execution_count": 13,
   "id": "0ca09fab",
   "metadata": {},
   "outputs": [
    {
     "data": {
      "text/plain": [
       "{'          Ustaw Rzeczypos',\n",
       " '          ustaw          ',\n",
       " '          ustaw dotyczące',\n",
       " '          ustaw i rozporz',\n",
       " '          ustaw i ustawę ',\n",
       " '          ustaw lub przep',\n",
       " '          ustaw podatkowy',\n",
       " '          ustaw regulując',\n",
       " '          ustaw,         ',\n",
       " '          ustaw, biuro no',\n",
       " '          ustaw, umów lub',\n",
       " '     albo ustaw nie można',\n",
       " '    zmian ustaw  konstytu',\n",
       " '   innych ustaw          ',\n",
       " '   innych ustaw (Dz.U. Nr',\n",
       " '   innych ustaw i aktów w',\n",
       " '   innych ustaw należy do',\n",
       " '   innych ustaw.\",    b) ',\n",
       " '  a także ustaw o zmianie',\n",
       " '  zmianie ustaw Kodeks cy',\n",
       " ' Dziennik Ustaw Rzeczypos',\n",
       " ' Dziennik Ustaw i Monitor',\n",
       " ' Dziennik Ustaw, Monitor ',\n",
       " ' Przepisy ustaw zmieniany',\n",
       " ' Przepisy ustaw, o któryc',\n",
       " ' i innych ustaw          ',\n",
       " ' i innych ustaw będę ściś',\n",
       " ' i innych ustaw oraz     ',\n",
       " ' i innych ustaw,         ',\n",
       " ' naruszeń ustaw dopuści  ',\n",
       " ' projekty ustaw, rozporzą',\n",
       " ' przepisy ustaw      odrę',\n",
       " ' przepisy ustaw   szczegó',\n",
       " ' przepisy ustaw albo akty',\n",
       " ' przepisy ustaw i   dekre',\n",
       " ' przepisy ustaw karnych, ',\n",
       " ' przepisy ustaw lub     u',\n",
       " ' przepisy ustaw nakładają',\n",
       " ' przepisy ustaw odrębnych',\n",
       " ' przepisy ustaw określają',\n",
       " ' przepisy ustaw regulując',\n",
       " ' przepisy ustaw szczególn',\n",
       " ' przepisy ustaw w zakresi',\n",
       " ' przepisy ustaw wskazanyc',\n",
       " ' przepisy ustaw wymienion',\n",
       " ' przepisy ustaw zmieniany',\n",
       " ' przepisy ustaw, o któryc',\n",
       " ' ustawy i ustaw ogłoszony',\n",
       " ' w drodze ustaw.  §4. Ile',\n",
       " ' wykładni ustaw.         ',\n",
       " ' z innych ustaw -        ',\n",
       " ' z innych ustaw ogranicze',\n",
       " ' z innych ustaw; nie są j',\n",
       " 'Dziennika Ustaw Rzeczypos',\n",
       " 'Dziennika Ustaw,   Monito',\n",
       " 'Dziennika Ustaw, Monitora',\n",
       " 'Dzienniku Ustaw          ',\n",
       " 'Dzienniku Ustaw     Rzecz',\n",
       " 'Dzienniku Ustaw   Rzeczyp',\n",
       " 'Dzienniku Ustaw  Rzeczypo',\n",
       " 'Dzienniku Ustaw Rzeczypos',\n",
       " 'Dzienniku Ustaw i Monitor',\n",
       " 'Dzienniku Ustaw lub Monit',\n",
       " 'Dzienniku Ustaw ogłasza s',\n",
       " 'Dzienniku Ustaw,    7) uc',\n",
       " 'Dzienniku Ustaw,   Monito',\n",
       " 'Dzienniku Ustaw, Monitorz',\n",
       " 'Dzienniku Ustaw. Przepisy',\n",
       " 'Polskiej, ustaw i innych ',\n",
       " 'a na mocy ustaw podatkowy',\n",
       " 'a w życie ustaw, o któryc',\n",
       " 'a w życie ustaw:    1) z ',\n",
       " 'ającego z ustaw szczególn',\n",
       " 'ających z ustaw i innych ',\n",
       " 'ających z ustaw i orzecze',\n",
       " 'ających z ustaw po uzyska',\n",
       " 'ających z ustaw, orzeczeń',\n",
       " 'aruszania ustaw Sejm, na ',\n",
       " 'awie      ustaw, umów lub',\n",
       " 'awie tych ustaw,         ',\n",
       " 'awie tych ustaw,\",      -',\n",
       " 'az innych ustaw          ',\n",
       " 'az innych ustaw   reguluj',\n",
       " 'az innych ustaw (Dz.U. Nr',\n",
       " 'az innych ustaw i aktów w',\n",
       " 'az innych ustaw określają',\n",
       " 'az innych ustaw regulując',\n",
       " 'az innych ustaw.         ',\n",
       " 'az innych ustaw. 3. Do za',\n",
       " 'az innych ustaw. [2]  Zmi',\n",
       " 'az innych ustaw[1]) \\xa0 \\xa0 A',\n",
       " 'ch        ustaw (Dz.U. Nr',\n",
       " 'ch innych ustaw          ',\n",
       " 'ch innych ustaw    (Dz.U.',\n",
       " 'ch innych ustaw (Dz. U. N',\n",
       " 'ch innych ustaw (Dz. U. p',\n",
       " 'ch innych ustaw (Dz. U. z',\n",
       " 'ch innych ustaw (Dz. U.\\xa0 ',\n",
       " 'ch innych ustaw (Dz.U.  N',\n",
       " 'ch innych ustaw (Dz.U. Nr',\n",
       " 'ch innych ustaw (Dz.U. z ',\n",
       " 'ch innych ustaw Art.\\xa01. W',\n",
       " 'ch innych ustaw Art.\\xa01.\\xa0W',\n",
       " 'ch innych ustaw [1]), [2]',\n",
       " 'ch innych ustaw oraz umow',\n",
       " 'ch innych ustaw oraz usta',\n",
       " 'ch innych ustaw oraz w um',\n",
       " 'ch innych ustaw \\xa0 Art. 1.',\n",
       " 'ch innych ustaw \\xa0 \\xa0 Art. ',\n",
       " 'ch innych ustaw, i odpowi',\n",
       " 'ch innych ustaw, następuj',\n",
       " 'ch innych ustaw, stosuje ',\n",
       " 'ch innych ustaw, ustawę o',\n",
       " 'ch innych ustaw, ustawę z',\n",
       " 'ch innych ustaw, z uwzglę',\n",
       " 'ch innych ustaw, zgromadz',\n",
       " 'ch innych ustaw.         ',\n",
       " 'ch innych ustaw.    [2])\\xa0',\n",
       " 'ch innych ustaw.   [2]) N',\n",
       " 'ch innych ustaw.   [2])\\xa0\\xa0',\n",
       " 'ch innych ustaw.   [3])\\xa0\\xa0',\n",
       " 'ch innych ustaw.  3. Zezw',\n",
       " 'ch innych ustaw. [2] Zmia',\n",
       " 'ch innych ustaw[1]       ',\n",
       " 'ch innych ustaw[1])  Art.',\n",
       " 'ch innych ustaw[1]) Art. ',\n",
       " 'ch innych ustaw[1]) Art.\\xa0',\n",
       " 'ch innych ustaw[1]) [2]) ',\n",
       " 'ch innych ustaw[1]) \\xa0 Art',\n",
       " 'ch innych ustaw[1]) \\xa0 \\xa0 A',\n",
       " 'ch innych ustaw[1]), [2])',\n",
       " 'ch innych ustaw[1]),[2]) ',\n",
       " 'ch innych\\xa0ustaw[1]) \\xa0 \\xa0 A',\n",
       " 'ch z      ustaw lub decyz',\n",
       " 'chwalenia ustaw na ich po',\n",
       " 'cy innych ustaw.         ',\n",
       " 'dnolitych ustaw. 3. Przep',\n",
       " 'do innych ustaw nie      ',\n",
       " 'do innych ustaw nie zwięk',\n",
       " 'do innych ustaw przewiduj',\n",
       " 'dotyczące ustaw organizac',\n",
       " 'd\\xadrębnych ustaw; 2)\\xa0\\xa0 Sze',\n",
       " 'ealizację ustaw i innych ',\n",
       " 'ektórych  ustaw (Dz.U. Nr',\n",
       " 'granicach ustaw, o   spos',\n",
       " 'h  innych ustaw, z dnia 2',\n",
       " 'h  innych ustaw. [2] Zmia',\n",
       " 'h innych  ustaw,  ustawę ',\n",
       " 'h na mocy ustaw, umów bąd',\n",
       " 'h tekstów ustaw uwzględni',\n",
       " 'h tekstów ustaw.         ',\n",
       " 'i do tych ustaw,   zwanyc',\n",
       " 'ie        ustaw, umów lub',\n",
       " 'ie i      ustaw szczególn',\n",
       " 'ie innych ustaw          ',\n",
       " 'ie innych ustaw (Dz.U. Nr',\n",
       " 'ie innych ustaw jest wyma',\n",
       " 'ie innych ustaw określają',\n",
       " 'ie innych ustaw oraz umów',\n",
       " 'ie innych ustaw oraz usta',\n",
       " 'ie innych ustaw,         ',\n",
       " 'ie innych ustaw,     zwan',\n",
       " 'ie innych ustaw,\",    b) ',\n",
       " 'ie innych ustaw.         ',\n",
       " 'ie innych ustaw. 2. W okr',\n",
       " 'ie innych ustaw. 2. Zakła',\n",
       " 'ie innych ustaw. Przepis ',\n",
       " 'iektórych ustaw          ',\n",
       " 'iektórych ustaw         (',\n",
       " 'iektórych ustaw      (Dz.',\n",
       " 'iektórych ustaw     (Dz.U',\n",
       " 'iektórych ustaw   (Dz.U. ',\n",
       " 'iektórych ustaw  (Dz.U. N',\n",
       " 'iektórych ustaw (Dz. U.  ',\n",
       " 'iektórych ustaw (Dz. U. N',\n",
       " 'iektórych ustaw (Dz. U. p',\n",
       " 'iektórych ustaw (Dz. U. z',\n",
       " 'iektórych ustaw (Dz.U.   ',\n",
       " 'iektórych ustaw (Dz.U.  N',\n",
       " 'iektórych ustaw (Dz.U. Nr',\n",
       " 'iektórych ustaw (Dz.U. z ',\n",
       " 'iektórych ustaw a także o',\n",
       " 'iektórych ustaw dotyczący',\n",
       " 'iektórych ustaw normujący',\n",
       " 'iektórych ustaw o zaopatr',\n",
       " 'iektórych ustaw określają',\n",
       " 'iektórych ustaw oraz usta',\n",
       " 'iektórych ustaw regulując',\n",
       " 'iektórych ustaw w brzmien',\n",
       " 'iektórych ustaw w celu po',\n",
       " 'iektórych ustaw w celu uł',\n",
       " 'iektórych ustaw w zakresi',\n",
       " 'iektórych ustaw w związku',\n",
       " 'iektórych ustaw w\\xa0celu uł',\n",
       " 'iektórych ustaw związanyc',\n",
       " 'iektórych ustaw,         ',\n",
       " 'iektórych ustaw,        b',\n",
       " 'iektórych ustaw, jeżeli s',\n",
       " 'iektórych ustaw, należy p',\n",
       " 'iektórych ustaw, oraz ban',\n",
       " 'iektórych ustaw, ustawy o',\n",
       " 'iektórych ustaw, ustawę z',\n",
       " 'iektórych ustaw, w       ',\n",
       " 'iektórych ustaw, z uwzglę',\n",
       " 'iektórych ustaw.         ',\n",
       " 'iektórych ustaw. [2]  Zmi',\n",
       " 'iektórych ustaw[1]       ',\n",
       " 'iennikiem Ustaw\". 2. Ogło',\n",
       " 'ienniku   Ustaw Rzeczypos',\n",
       " 'ienniku   Ustaw lub Monit',\n",
       " 'ikające z ustaw innych ni',\n",
       " 'ikające z ustaw, należnyc',\n",
       " 'isów tych ustaw dotyczący',\n",
       " 'iązywania ustaw, o któryc',\n",
       " 'ię        ustaw na wniose',\n",
       " 'je się do ustaw, które we',\n",
       " 'kiej albo ustaw nie można',\n",
       " 'kiej albo ustaw, nie możn',\n",
       " 'których   ustaw oraz obli',\n",
       " 'niku      Ustaw Rzeczypos',\n",
       " 'nnikiem   Ustaw\", ogłasza',\n",
       " 'nnych     ustaw do przepi',\n",
       " 'nnych     ustaw oraz zare',\n",
       " 'nych      ustaw - w związ',\n",
       " 'nych      ustaw są podatn',\n",
       " 'nych      ustaw,    5) do',\n",
       " 'o zmianie ustaw     Kodek',\n",
       " 'o zmianie ustaw - Kodeks ',\n",
       " 'o zmianie ustaw Kodeks cy',\n",
       " 'o zmianie ustaw Kodeks ro',\n",
       " 'o zmianie ustaw o podatku',\n",
       " 'o zmianie ustaw o prokura',\n",
       " 'o zmianie ustaw o regiona',\n",
       " 'o zmianie ustaw: Prawo bu',\n",
       " 'o zmianie ustaw: o podatk',\n",
       " 'o zmianie ustaw: o samorz',\n",
       " 'o zmianie ustaw: o urzędz',\n",
       " 'o zmianie ustaw: o zakład',\n",
       " 'ocy umów, ustaw lub powsz',\n",
       " 'odrębnych ustaw          ',\n",
       " 'odrębnych ustaw      lub ',\n",
       " 'odrębnych ustaw      regu',\n",
       " 'odrębnych ustaw      żołn',\n",
       " 'odrębnych ustaw   nie sta',\n",
       " 'odrębnych ustaw -\",      ',\n",
       " 'odrębnych ustaw -\",     e',\n",
       " 'odrębnych ustaw dotyczący',\n",
       " 'odrębnych ustaw lub przep',\n",
       " 'odrębnych ustaw lub umowy',\n",
       " 'odrębnych ustaw lub umów ',\n",
       " 'odrębnych ustaw lub zwoln',\n",
       " 'odrębnych ustaw nie stano',\n",
       " 'odrębnych ustaw o tajemni',\n",
       " 'odrębnych ustaw ogłoszeni',\n",
       " 'odrębnych ustaw oraz uchw',\n",
       " 'odrębnych ustaw organów l',\n",
       " 'odrębnych ustaw podatków:',\n",
       " 'odrębnych ustaw przewiduj',\n",
       " 'odrębnych ustaw przez   p',\n",
       " 'odrębnych ustaw przysługu',\n",
       " 'odrębnych ustaw regulując',\n",
       " 'odrębnych ustaw stanowią ',\n",
       " 'odrębnych ustaw są       ',\n",
       " 'odrębnych ustaw tak stano',\n",
       " 'odrębnych ustaw uprawniaj',\n",
       " 'odrębnych ustaw w celu   ',\n",
       " 'odrębnych ustaw w celu wy',\n",
       " 'odrębnych ustaw w zamian ',\n",
       " 'odrębnych ustaw wewnętrzn',\n",
       " 'odrębnych ustaw wynika ob',\n",
       " 'odrębnych ustaw wyłącznie',\n",
       " 'odrębnych ustaw żołnierzo',\n",
       " 'odrębnych ustaw,         ',\n",
       " 'odrębnych ustaw,        p',\n",
       " 'odrębnych ustaw,    2) po',\n",
       " 'odrębnych ustaw,    2) uk',\n",
       " 'odrębnych ustaw,    2) za',\n",
       " 'odrębnych ustaw,    3) wy',\n",
       " 'odrębnych ustaw,    4) pr',\n",
       " 'odrębnych ustaw,    6) do',\n",
       " 'odrębnych ustaw,    7) ws',\n",
       " 'odrębnych ustaw,   12) pa',\n",
       " 'odrębnych ustaw, a także ',\n",
       " 'odrębnych ustaw, do uzysk',\n",
       " 'odrębnych ustaw, dotycząc',\n",
       " 'odrębnych ustaw, których ',\n",
       " 'odrębnych ustaw, niezbędn',\n",
       " 'odrębnych ustaw, o ile te',\n",
       " 'odrębnych ustaw, organ na',\n",
       " 'odrębnych ustaw, przewidu',\n",
       " 'odrębnych ustaw, przysług',\n",
       " 'odrębnych ustaw, płatnika',\n",
       " 'odrębnych ustaw, stanowią',\n",
       " 'odrębnych ustaw, są obowi',\n",
       " 'odrębnych ustaw, w zakres',\n",
       " 'odrębnych ustaw, wyłączni',\n",
       " 'odrębnych ustaw, z wyjątk',\n",
       " 'odrębnych ustaw, zaliczon',\n",
       " 'odrębnych ustaw, zastaw w',\n",
       " 'odrębnych ustaw, zobowiąz',\n",
       " 'odrębnych ustaw,\".       ',\n",
       " 'odrębnych ustaw,”, –\\xa0\\xa0\\xa0\\xa0 ',\n",
       " 'odrębnych ustaw.         ',\n",
       " 'odrębnych ustaw.       3.',\n",
       " 'odrębnych ustaw. 2. Jeżel',\n",
       " 'odrębnych ustaw. 2. Upraw',\n",
       " 'odrębnych ustaw. 2. Usług',\n",
       " 'odrębnych ustaw. 3. Wprow',\n",
       " 'odrębnych ustaw. 7. Przep',\n",
       " 'odrębnych ustaw.\"; 57) sk',\n",
       " 'odrębnych ustaw.\"; 6) w a',\n",
       " 'odrębnych ustaw: –\\xa0\\xa0\\xa0\\xa0 kr',\n",
       " 'odrębnych ustaw: –\\xa0\\xa0\\xa0\\xa0 wy',\n",
       " 'odrębnych ustaw; 2)\\xa0 dyre',\n",
       " 'odrębnych ustaw; 5)\\xa0\\xa0\\xa0\\xa0 j',\n",
       " 'ojektach  ustaw i aktów w',\n",
       " 'osunek do ustaw szczególn',\n",
       " 'owej oraz ustaw          ',\n",
       " 'pisy tych ustaw w brzmien',\n",
       " 'pisy tych ustaw, w brzmie',\n",
       " 'podstawie ustaw          ',\n",
       " 'podstawie ustaw        pr',\n",
       " 'podstawie ustaw      Art.',\n",
       " 'podstawie ustaw   wymieni',\n",
       " 'podstawie ustaw i dekretu',\n",
       " 'podstawie ustaw innych, n',\n",
       " 'podstawie ustaw lub      ',\n",
       " 'podstawie ustaw lub poroz',\n",
       " 'podstawie ustaw lub przep',\n",
       " 'podstawie ustaw można ogł',\n",
       " 'podstawie ustaw o stosunk',\n",
       " 'podstawie ustaw programy ',\n",
       " 'podstawie ustaw przez pod',\n",
       " 'podstawie ustaw regulując',\n",
       " 'podstawie ustaw szczególn',\n",
       " 'podstawie ustaw tajemnicą',\n",
       " 'podstawie ustaw tworzy si',\n",
       " 'podstawie ustaw uważa się',\n",
       " 'podstawie ustaw w związku',\n",
       " 'podstawie ustaw wprowadzo',\n",
       " 'podstawie ustaw,      b) ',\n",
       " 'podstawie ustaw, o   któr',\n",
       " 'podstawie ustaw, o któryc',\n",
       " 'podstawie ustaw, umów    ',\n",
       " 'podstawie ustaw, umów i z',\n",
       " 'podstawie ustaw, umów lub',\n",
       " 'podstawie ustaw.         ',\n",
       " 'podstawie ustaw. 2. Jeżel',\n",
       " 'podstawie ustaw;    8) za',\n",
       " 'projektów ustaw budżetowy',\n",
       " 'projektów ustaw i rozporz',\n",
       " 'projektów ustaw konstytuc',\n",
       " 'projektów ustaw, o któryc',\n",
       " 'przepisów ustaw          ',\n",
       " 'przepisów ustaw i dekretó',\n",
       " 'przepisów ustaw lub z umó',\n",
       " 'przepisów ustaw o stosunk',\n",
       " 'przepisów ustaw tworzącyc',\n",
       " 'przepisów ustaw zmieniany',\n",
       " 'przepisów ustaw, o któryc',\n",
       " 'przepisów ustaw.         ',\n",
       " 'przepisów ustaw:         ',\n",
       " 'rojektach ustaw budżetowy',\n",
       " 'rojektach ustaw i aktów w',\n",
       " 'rojektach ustaw o prowizo',\n",
       " 'rzepisach ustaw innych ni',\n",
       " 'rzepisach ustaw lub umowa',\n",
       " 'rzepisach ustaw odrębnych',\n",
       " 'rzepisach ustaw wymienion',\n",
       " 'rzepisami ustaw Prawo ban',\n",
       " 'rzepisami ustaw chroniący',\n",
       " 'rzepisami ustaw i statute',\n",
       " 'rzepisami ustaw wymienion',\n",
       " 'rzepisami ustaw zmieniany',\n",
       " 'rzepisami ustaw, na podst',\n",
       " 'rzepisy   ustaw karnych, ',\n",
       " 'rębnych   ustaw lub umów ',\n",
       " 'rębnych   ustaw, szczegól',\n",
       " 'sy innych ustaw dotyczące',\n",
       " 'sy innych ustaw nie stano',\n",
       " 'sy innych ustaw nie sta\\xadn',\n",
       " 'te teksty ustaw, o któryc',\n",
       " 'te teksty ustaw:     1) z',\n",
       " 'trzegania ustaw i przepis',\n",
       " 'trzegania ustaw, statutu ',\n",
       " 'tucji lub ustaw          ',\n",
       " 'tucji lub ustaw Sejm,   n',\n",
       " 'tucji lub ustaw, Sejm, na',\n",
       " 'tucji lub ustaw, a także ',\n",
       " 'tytucji i ustaw sędziowie',\n",
       " 'ub innych ustaw          ',\n",
       " 'ub innych ustaw nie stano',\n",
       " 'ub innych ustaw, oraz moż',\n",
       " 'uszania   ustaw dopuszcza',\n",
       " 'wczych do ustaw,         ',\n",
       " 'wykonaniu ustaw przez sąd',\n",
       " 'y na mocy ustaw, umów lub',\n",
       " 'z  innych ustaw oraz umów',\n",
       " 'zepisów   ustaw. Zmiany w',\n",
       " 'zgodności ustaw i umów mi',\n",
       " 'zgodności ustaw z ratyfik',\n",
       " 'órych     ustaw (Dz.U. z ',\n",
       " 'ów (Zbiór ustaw pruskich ',\n",
       " 'ów innych ustaw          ',\n",
       " 'ów innych ustaw o ochroni',\n",
       " 'ów innych ustaw określają',\n",
       " 'ów innych ustaw regulując',\n",
       " 'ów innych ustaw,  a w szc',\n",
       " 'ów innych ustaw, a w szcz',\n",
       " 'ów innych ustaw.         ',\n",
       " 'ązujących ustaw.         ',\n",
       " 'łącznie z ustaw.         '}"
      ]
     },
     "execution_count": 13,
     "metadata": {},
     "output_type": "execute_result"
    }
   ],
   "source": [
    "scopes=[regex.findall(r'.{10}\\bustaw\\b.{10}', f, flags=regex.IGNORECASE)for k,f in files.items()]\n",
    "\n",
    "result=[]\n",
    "for s in scopes:\n",
    "    if len(s) > 0:\n",
    "        result += s\n",
    "        \n",
    "set(result)"
   ]
  },
  {
   "cell_type": "markdown",
   "id": "831b651d",
   "metadata": {},
   "source": [
    "not found\n"
   ]
  },
  {
   "cell_type": "markdown",
   "id": "40926e74",
   "metadata": {},
   "source": [
    "# Zadanie 5"
   ]
  },
  {
   "cell_type": "code",
   "execution_count": 14,
   "id": "2abc55c1",
   "metadata": {},
   "outputs": [],
   "source": [
    "regexes5 = [r+r'(?=\\s+z\\s+dnia)' for r in regexes]"
   ]
  },
  {
   "cell_type": "code",
   "execution_count": 15,
   "id": "71a350f1",
   "metadata": {},
   "outputs": [
    {
     "data": {
      "text/plain": [
       "['\\\\bustawa\\\\b(?=\\\\s+z\\\\s+dnia)',\n",
       " '\\\\bustawą\\\\b(?=\\\\s+z\\\\s+dnia)',\n",
       " '\\\\bustawę\\\\b(?=\\\\s+z\\\\s+dnia)',\n",
       " '\\\\bustawie\\\\b(?=\\\\s+z\\\\s+dnia)',\n",
       " '\\\\bustawo\\\\b(?=\\\\s+z\\\\s+dnia)',\n",
       " '\\\\bustawy\\\\b(?=\\\\s+z\\\\s+dnia)',\n",
       " '\\\\bustawach\\\\b(?=\\\\s+z\\\\s+dnia)',\n",
       " '\\\\bustawami\\\\b(?=\\\\s+z\\\\s+dnia)',\n",
       " '\\\\bustawom\\\\b(?=\\\\s+z\\\\s+dnia)',\n",
       " '\\\\bustaw\\\\b(?=\\\\s+z\\\\s+dnia)']"
      ]
     },
     "execution_count": 15,
     "metadata": {},
     "output_type": "execute_result"
    }
   ],
   "source": [
    "regexes5"
   ]
  },
  {
   "cell_type": "code",
   "execution_count": 16,
   "id": "387cee38",
   "metadata": {},
   "outputs": [],
   "source": [
    "files = read_archive('ustawy.tar.gz')\n",
    "matches5=find_matches(regexes5, flections)"
   ]
  },
  {
   "cell_type": "code",
   "execution_count": 17,
   "id": "fd6ce7fd",
   "metadata": {},
   "outputs": [
    {
     "data": {
      "text/plain": [
       "{'ustawa': 1190,\n",
       " 'ustawą': 59,\n",
       " 'ustawę': 635,\n",
       " 'ustawie': 3650,\n",
       " 'ustawo': 0,\n",
       " 'ustawy': 3053,\n",
       " 'ustawach': 1,\n",
       " 'ustawami': 0,\n",
       " 'ustawom': 0,\n",
       " 'ustaw': 0}"
      ]
     },
     "execution_count": 17,
     "metadata": {},
     "output_type": "execute_result"
    }
   ],
   "source": [
    "matches5"
   ]
  },
  {
   "cell_type": "markdown",
   "id": "c324f84d",
   "metadata": {},
   "source": [
    "# Zadanie 6"
   ]
  },
  {
   "cell_type": "code",
   "execution_count": 18,
   "id": "0ae23cd7",
   "metadata": {},
   "outputs": [],
   "source": [
    "regexes6 = [r+r'(?!\\s+z\\s+dnia)' for r in regexes]"
   ]
  },
  {
   "cell_type": "code",
   "execution_count": 19,
   "id": "b9a049a2",
   "metadata": {
    "scrolled": false
   },
   "outputs": [
    {
     "data": {
      "text/plain": [
       "['\\\\bustawa\\\\b(?!\\\\s+z\\\\s+dnia)',\n",
       " '\\\\bustawą\\\\b(?!\\\\s+z\\\\s+dnia)',\n",
       " '\\\\bustawę\\\\b(?!\\\\s+z\\\\s+dnia)',\n",
       " '\\\\bustawie\\\\b(?!\\\\s+z\\\\s+dnia)',\n",
       " '\\\\bustawo\\\\b(?!\\\\s+z\\\\s+dnia)',\n",
       " '\\\\bustawy\\\\b(?!\\\\s+z\\\\s+dnia)',\n",
       " '\\\\bustawach\\\\b(?!\\\\s+z\\\\s+dnia)',\n",
       " '\\\\bustawami\\\\b(?!\\\\s+z\\\\s+dnia)',\n",
       " '\\\\bustawom\\\\b(?!\\\\s+z\\\\s+dnia)',\n",
       " '\\\\bustaw\\\\b(?!\\\\s+z\\\\s+dnia)']"
      ]
     },
     "execution_count": 19,
     "metadata": {},
     "output_type": "execute_result"
    }
   ],
   "source": [
    "regexes6"
   ]
  },
  {
   "cell_type": "code",
   "execution_count": 20,
   "id": "fe9f57b6",
   "metadata": {},
   "outputs": [],
   "source": [
    "files = read_archive('ustawy.tar.gz')\n",
    "matches6=find_matches(regexes6, flections)"
   ]
  },
  {
   "cell_type": "code",
   "execution_count": 21,
   "id": "e36149ba",
   "metadata": {
    "scrolled": true
   },
   "outputs": [
    {
     "data": {
      "text/plain": [
       "{'ustawa': 2045,\n",
       " 'ustawą': 1059,\n",
       " 'ustawę': 194,\n",
       " 'ustawie': 1828,\n",
       " 'ustawo': 0,\n",
       " 'ustawy': 10046,\n",
       " 'ustawach': 177,\n",
       " 'ustawami': 76,\n",
       " 'ustawom': 12,\n",
       " 'ustaw': 909}"
      ]
     },
     "execution_count": 21,
     "metadata": {},
     "output_type": "execute_result"
    }
   ],
   "source": [
    "matches6"
   ]
  },
  {
   "cell_type": "code",
   "execution_count": 22,
   "id": "19466371",
   "metadata": {},
   "outputs": [
    {
     "name": "stdout",
     "output_type": "stream",
     "text": [
      "ustawa 3235 3235 1190 2045\n",
      "ustawą 1118 1118 59 1059\n",
      "ustawę 829 829 635 194\n",
      "ustawie 5478 5478 3650 1828\n",
      "ustawo 0 0 0 0\n",
      "ustawy 13099 13099 3053 10046\n",
      "ustawach 178 178 1 177\n",
      "ustawami 76 76 0 76\n",
      "ustawom 12 12 0 12\n",
      "ustaw 909 909 0 909\n"
     ]
    }
   ],
   "source": [
    "for k, v in matches4.items():\n",
    "    print(k, v, matches5[k]+matches6[k], matches5[k], matches6[k])\n",
    "    assert(v==matches5[k]+matches6[k])"
   ]
  },
  {
   "cell_type": "markdown",
   "id": "c63f66e8",
   "metadata": {},
   "source": [
    "# Zadanie 7"
   ]
  },
  {
   "cell_type": "code",
   "execution_count": 23,
   "id": "8ddfed4f",
   "metadata": {},
   "outputs": [],
   "source": [
    "regexes7 = [r'(?<!\\bo\\szmianie\\b\\s)'+r for r in regexes]"
   ]
  },
  {
   "cell_type": "code",
   "execution_count": 24,
   "id": "cdf4a1be",
   "metadata": {
    "scrolled": false
   },
   "outputs": [
    {
     "data": {
      "text/plain": [
       "['(?<!\\\\bo\\\\szmianie\\\\b\\\\s)\\\\bustawa\\\\b',\n",
       " '(?<!\\\\bo\\\\szmianie\\\\b\\\\s)\\\\bustawą\\\\b',\n",
       " '(?<!\\\\bo\\\\szmianie\\\\b\\\\s)\\\\bustawę\\\\b',\n",
       " '(?<!\\\\bo\\\\szmianie\\\\b\\\\s)\\\\bustawie\\\\b',\n",
       " '(?<!\\\\bo\\\\szmianie\\\\b\\\\s)\\\\bustawo\\\\b',\n",
       " '(?<!\\\\bo\\\\szmianie\\\\b\\\\s)\\\\bustawy\\\\b',\n",
       " '(?<!\\\\bo\\\\szmianie\\\\b\\\\s)\\\\bustawach\\\\b',\n",
       " '(?<!\\\\bo\\\\szmianie\\\\b\\\\s)\\\\bustawami\\\\b',\n",
       " '(?<!\\\\bo\\\\szmianie\\\\b\\\\s)\\\\bustawom\\\\b',\n",
       " '(?<!\\\\bo\\\\szmianie\\\\b\\\\s)\\\\bustaw\\\\b']"
      ]
     },
     "execution_count": 24,
     "metadata": {},
     "output_type": "execute_result"
    }
   ],
   "source": [
    "regexes7"
   ]
  },
  {
   "cell_type": "code",
   "execution_count": 25,
   "id": "18c6fa8a",
   "metadata": {},
   "outputs": [],
   "source": [
    "files = read_archive('ustawy.tar.gz')\n",
    "matches7=find_matches(regexes7, flections)"
   ]
  },
  {
   "cell_type": "code",
   "execution_count": 26,
   "id": "ecc24215",
   "metadata": {
    "scrolled": true
   },
   "outputs": [
    {
     "data": {
      "text/plain": [
       "{'ustawa': 3235,\n",
       " 'ustawą': 1118,\n",
       " 'ustawę': 829,\n",
       " 'ustawie': 5478,\n",
       " 'ustawo': 0,\n",
       " 'ustawy': 12263,\n",
       " 'ustawach': 178,\n",
       " 'ustawami': 76,\n",
       " 'ustawom': 12,\n",
       " 'ustaw': 893}"
      ]
     },
     "execution_count": 26,
     "metadata": {},
     "output_type": "execute_result"
    }
   ],
   "source": [
    "matches7"
   ]
  },
  {
   "cell_type": "code",
   "execution_count": 27,
   "id": "b0597405",
   "metadata": {},
   "outputs": [
    {
     "data": {
      "image/png": "[encoded data removed]",
      "text/plain": [
       "<Figure size 720x504 with 1 Axes>"
      ]
     },
     "metadata": {
      "needs_background": "light"
     },
     "output_type": "display_data"
    },
    {
     "data": {
      "image/png": "[encoded data removed]",
      "text/plain": [
       "<Figure size 720x504 with 1 Axes>"
      ]
     },
     "metadata": {
      "needs_background": "light"
     },
     "output_type": "display_data"
    },
    {
     "data": {
      "image/png": "[encoded data removed]",
      "text/plain": [
       "<Figure size 720x504 with 1 Axes>"
      ]
     },
     "metadata": {
      "needs_background": "light"
     },
     "output_type": "display_data"
    },
    {
     "data": {
      "image/png": "[encoded data removed]",
      "text/plain": [
       "<Figure size 720x504 with 1 Axes>"
      ]
     },
     "metadata": {
      "needs_background": "light"
     },
     "output_type": "display_data"
    }
   ],
   "source": [
    "i=4\n",
    "for m in [matches4, matches5, matches6, matches7]:\n",
    "    plt.figure(figsize=(10, 7))\n",
    "    plt.grid()\n",
    "    plt.title(f\"Zadanie {i}\")\n",
    "    plt.bar(m.keys(), m.values(), label=m.keys())\n",
    "    plt.show()\n",
    "    i+=1"
   ]
  }
 ],
 "metadata": {
  "kernelspec": {
   "display_name": "Python 3 (ipykernel)",
   "language": "python",
   "name": "python3"
  },
  "language_info": {
   "codemirror_mode": {
    "name": "ipython",
    "version": 3
   },
   "file_extension": ".py",
   "mimetype": "text/x-python",
   "name": "python",
   "nbconvert_exporter": "python",
   "pygments_lexer": "ipython3",
   "version": "3.9.7"
  }
 },
 "nbformat": 4,
 "nbformat_minor": 5
}
